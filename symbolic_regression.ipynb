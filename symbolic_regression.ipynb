{
 "cells": [
  {
   "cell_type": "markdown",
   "metadata": {},
   "source": [
    "# Imports and utils"
   ]
  },
  {
   "cell_type": "code",
   "execution_count": null,
   "metadata": {},
   "outputs": [],
   "source": [
    "import gxgp\n",
    "from gxgp import *\n",
    "import operator\n",
    "import numpy as np  \n",
    "import matplotlib.pyplot as plt\n",
    "from tqdm.auto import tqdm\n",
    "import re\n",
    "import os\n",
    "\n",
    "\n",
    "def sin(x):\n",
    "        return np.sin(x)\n",
    "def cos(x):\n",
    "        return np.cos(x)\n",
    "def exp(x):\n",
    "        return np.exp(x)\n",
    "def tanh(x):\n",
    "    return np.tanh(x)\n",
    "def sinh(x):\n",
    "    return np.sinh(x)\n",
    "def cosh(x):\n",
    "    return np.cosh(x)\n",
    "def arctan(x):\n",
    "    return np.arctan(x)"
   ]
  },
  {
   "cell_type": "markdown",
   "metadata": {},
   "source": [
    "Modify the `selected` parameter in order to try different datasets"
   ]
  },
  {
   "cell_type": "code",
   "execution_count": null,
   "metadata": {},
   "outputs": [],
   "source": [
    "selected = 4\n",
    "\n",
    "operators = {\n",
    "    0: [operator.add, operator.sub, operator.mul, sin, cos],\n",
    "    1: [operator.add, operator.sub, operator.mul, sin, cos],\n",
    "    2: [operator.add, operator.sub, operator.mul, sin, cos, exp, sinh, cosh, tanh, arctan],\n",
    "    3: [operator.add, operator.sub, operator.mul, sin, cos],\n",
    "    4: [operator.add, operator.sub, operator.mul, sin, cos],\n",
    "    5: [operator.add, operator.sub, operator.mul, sin, cos, exp],\n",
    "    6: [operator.add, operator.sub, operator.mul, sin, cos],\n",
    "    7: [operator.add, operator.sub, operator.mul, sin, cos, exp, sinh, cosh, tanh, arctan],\n",
    "    8: [operator.add, operator.sub, operator.mul, sin, cos, exp, sinh, cosh, tanh, arctan],\n",
    "}\n",
    "\n",
    "parameters = {\n",
    "    # Population size, generations, offspring size, individual size, tournament size, resize factor, mutation const, mutation rate, length penalty, crossover rate\n",
    "    0: [100, 100, 30, 6, 5, 500, 0.25, 0.25,    0, 0.5], # definitive\n",
    "    1: [100,  50, 30, 6, 5, 500, 0.25,    0,    0, 0.5], # definitive\n",
    "    2: [100, 400, 30, 6, 5, 500,  0.2,  0.5,    0, 0.5], # definitive\n",
    "    3: [100, 400, 30, 6, 5, 500,  0.5,    0, 1e-2, 0.5], # definitive\n",
    "    4: [100, 300, 30, 6, 5, 200, 0.25,    0,    0, 0.5], # definitive\n",
    "    5: [100, 500, 30, 6, 5, 500,  0.5,    0, 1e-2, 0.5], # definitive\n",
    "    6: [100, 400, 30, 6, 5, 500, 0.25,    0,    0, 0.5], # definitive\n",
    "    7: [100, 300, 30, 6, 5, 5000, 0.4,  0.2, 1e-2, 0.5], # definitive\n",
    "    8: [100, 500, 30, 6, 5, 5000, 0.5,    0, 1e-2, 0.5], # definitive\n",
    "}\n"
   ]
  },
  {
   "cell_type": "code",
   "execution_count": null,
   "metadata": {},
   "outputs": [],
   "source": [
    "operators = operators[selected]\n",
    "POPULATION_SIZE, GENERATIONS, OFFSPRING_SIZE, INDIVIDUAL_SIZE, TOURNAMENT_SIZE, RESIZE, MUT_A, MUT_B, LEN_PENALTY, CROSSOVER_RATE= parameters[selected]"
   ]
  },
  {
   "cell_type": "markdown",
   "metadata": {},
   "source": [
    "`RESIZE` is used to downsample the original data, in order to make computation faster "
   ]
  },
  {
   "cell_type": "code",
   "execution_count": null,
   "metadata": {},
   "outputs": [],
   "source": [
    "problem = np.load(f'./data/problem_{selected}.npz')\n",
    "x = problem['x']\n",
    "y = problem['y']\n",
    "print(x.shape, y.shape)\n",
    "\n",
    "if y.shape[0] > RESIZE:\n",
    "    step = y.shape[0] // RESIZE  # Determine step size\n",
    "    truth = y[::step]  # Take every `step`-th element\n",
    "    truth = truth[:RESIZE]\n",
    "    x = x[:, ::step]\n",
    "    x = x[:, :RESIZE]\n",
    "else:\n",
    "    truth = y\n",
    "\n",
    "print(x.shape, truth.shape)\n",
    "\n",
    "# Initialize DagGP with callable operators and functions\n",
    "gp = gxgp.DagGP(\n",
    "    operators=operators,\n",
    "    variables=x.shape[0],\n",
    "    constants=np.linspace(-2, 2, 500),\n",
    ")"
   ]
  },
  {
   "cell_type": "markdown",
   "metadata": {},
   "source": [
    "The following function is used to map the output to a real numpy expression, that can be copied and pasted in the destination file"
   ]
  },
  {
   "cell_type": "code",
   "execution_count": null,
   "metadata": {},
   "outputs": [],
   "source": [
    "def transform_expression(expr):\n",
    "    operator_map = {\n",
    "        'add': 'np.add',\n",
    "        'sub': 'np.subtract',\n",
    "        'mul': 'np.multiply',\n",
    "        'safe_div': 'np.divide',\n",
    "        'safe_log': 'np.log',\n",
    "        'exp': 'np.exp',\n",
    "        'sin': 'np.sin',\n",
    "        'cos': 'np.cos',\n",
    "        'tan': 'np.tan',\n",
    "        'abs': 'np.abs',\n",
    "        'tanh': 'np.tanh',\n",
    "        'sinh': 'np.sinh',\n",
    "        'cosh': 'np.cosh',\n",
    "        'arctan': 'np.arctan',\n",
    "    }\n",
    "    # Base case: If it's a number, return as is\n",
    "    if re.fullmatch(r'[-+]?\\d*\\.?\\d+', expr):  \n",
    "        return expr\n",
    "    \n",
    "    # Replace variables x0, x1, x2, ... with x[0], x[1], x[2], ...\n",
    "    if re.fullmatch(r'x\\d+', expr):\n",
    "        return f\"x[{expr[1:]}]\"\n",
    "\n",
    "    # Match function calls like: func(arg1, arg2)\n",
    "    match = re.match(r'(\\w+)\\((.+)\\)', expr)\n",
    "    if match:\n",
    "        func, args_str = match.groups()\n",
    "\n",
    "        # Split arguments, keeping nested function calls intact\n",
    "        args = []\n",
    "        depth = 0\n",
    "        arg = \"\"\n",
    "        for char in args_str:\n",
    "            if char == ',' and depth == 0:  # Split at top-level commas only\n",
    "                args.append(arg.strip())\n",
    "                arg = \"\"\n",
    "            else:\n",
    "                if char == '(': depth += 1\n",
    "                if char == ')': depth -= 1\n",
    "                arg += char\n",
    "        if arg:\n",
    "            args.append(arg.strip())\n",
    "\n",
    "        # Recursively process arguments\n",
    "        transformed_args = [transform_expression(arg) for arg in args]\n",
    "\n",
    "        # Replace function name with NumPy equivalent\n",
    "        if func in operator_map:\n",
    "            return f\"{operator_map[func]}({', '.join(transformed_args)})\"\n",
    "        else:\n",
    "            raise ValueError(f\"Unknown function: {func}\")\n",
    "\n",
    "    return expr  # Should not reach here normally"
   ]
  },
  {
   "cell_type": "markdown",
   "metadata": {},
   "source": [
    "# Tournament selection and fitness"
   ]
  },
  {
   "cell_type": "markdown",
   "metadata": {},
   "source": [
    "A simple tournament selection is implemented"
   ]
  },
  {
   "cell_type": "code",
   "execution_count": null,
   "metadata": {},
   "outputs": [],
   "source": [
    "def tournament_selection(population):\n",
    "    tournament = np.random.choice(population, TOURNAMENT_SIZE)\n",
    "    return max(tournament, key=lambda x: x.fitness)"
   ]
  },
  {
   "cell_type": "markdown",
   "metadata": {},
   "source": [
    "I used MSE and length as the fitness, sometimes I also add a length penalty"
   ]
  },
  {
   "cell_type": "code",
   "execution_count": null,
   "metadata": {},
   "outputs": [],
   "source": [
    "\n",
    "def fitness(individual):\n",
    "    return (-100*gp.mse(individual, x, truth, variable_names=[f'x{i}' for i in range(x.shape[0])])*(1 + LEN_PENALTY * len(individual)) , -len(individual))\n"
   ]
  },
  {
   "cell_type": "markdown",
   "metadata": {},
   "source": [
    "# Mutation and crossover"
   ]
  },
  {
   "cell_type": "markdown",
   "metadata": {},
   "source": [
    "Mutation and crossover functions are in `gxgp`."
   ]
  },
  {
   "cell_type": "code",
   "execution_count": null,
   "metadata": {},
   "outputs": [],
   "source": [
    "def mutate(tree: Node, probability: float) -> Node:\n",
    "    if gxgp_random.random() < probability:\n",
    "        return mutate_random_points(tree, x.shape[0], operators, 0.1)\n",
    "    else:\n",
    "        return mutate_subtree(tree, x.shape[0], operators)\n"
   ]
  },
  {
   "cell_type": "markdown",
   "metadata": {},
   "source": [
    "# Evaluation loop"
   ]
  },
  {
   "cell_type": "code",
   "execution_count": null,
   "metadata": {},
   "outputs": [],
   "source": [
    "population = [gp.create_individual(INDIVIDUAL_SIZE) for _ in tqdm(range(POPULATION_SIZE))]\n",
    "for i in population:\n",
    "    i.fitness = fitness(i)"
   ]
  },
  {
   "cell_type": "code",
   "execution_count": null,
   "metadata": {},
   "outputs": [],
   "source": [
    "history = []"
   ]
  },
  {
   "cell_type": "code",
   "execution_count": null,
   "metadata": {},
   "outputs": [],
   "source": [
    "for generation in tqdm(range(GENERATIONS)):\n",
    "    offspring = []\n",
    "    for _ in range(OFFSPRING_SIZE):\n",
    "        parent1 = tournament_selection(population)\n",
    "        if np.random.rand() < CROSSOVER_RATE:\n",
    "            parent2 = tournament_selection(population)\n",
    "            children = xover_swap_subtree(parent1, parent2)\n",
    "            offspring.append(children)\n",
    "        else:\n",
    "            mutation1 = mutate(parent1, MUT_A + MUT_B * (generation / GENERATIONS))\n",
    "            offspring.append(mutation1)\n",
    "    for i in offspring:\n",
    "        i.fitness = fitness(i)\n",
    "        \n",
    "    if generation % 25 == 0:\n",
    "        print(f\"Generation {generation}, best fitness: {population[0].fitness}\")\n",
    "\n",
    "    population = sorted(population + offspring, key=lambda x: x.fitness, reverse=True)[:POPULATION_SIZE]\n",
    "    history.append(population[0].fitness)\n"
   ]
  },
  {
   "cell_type": "markdown",
   "metadata": {},
   "source": [
    "## Final formula"
   ]
  },
  {
   "cell_type": "code",
   "execution_count": null,
   "metadata": {},
   "outputs": [],
   "source": [
    "print(transform_expression(population[0].long_name))"
   ]
  },
  {
   "cell_type": "markdown",
   "metadata": {},
   "source": [
    "# Plots"
   ]
  },
  {
   "cell_type": "code",
   "execution_count": null,
   "metadata": {},
   "outputs": [],
   "source": [
    "SAVE = False"
   ]
  },
  {
   "cell_type": "code",
   "execution_count": null,
   "metadata": {},
   "outputs": [],
   "source": [
    "# Create directory if it does not exist\n",
    "directory = f'./images/problem{selected}'\n",
    "if not os.path.exists(directory):\n",
    "    os.makedirs(directory)"
   ]
  },
  {
   "cell_type": "code",
   "execution_count": null,
   "metadata": {},
   "outputs": [],
   "source": [
    "# Extract MSE and Length from history\n",
    "mse_history = [-h[0] for h in history]\n",
    "length_history = [-h[1] for h in history]\n",
    "\n",
    "plt.plot(mse_history)\n",
    "plt.title('Best MSE over generations')\n",
    "plt.xlabel('Generation')\n",
    "plt.ylabel('MSE')\n",
    "plt.yscale('log')\n",
    "plt.grid()\n",
    "if SAVE:\n",
    "    plt.savefig(f'./images/problem{selected}/mse.png')\n",
    "plt.show()\n",
    "\n",
    "plt.plot(length_history, color='orange')\n",
    "plt.title('Length over generations')\n",
    "plt.xlabel('Generation')\n",
    "plt.ylabel('Length')\n",
    "plt.grid()\n",
    "if SAVE:\n",
    "    plt.savefig(f'./images/problem{selected}/length.png')\n",
    "plt.show()"
   ]
  },
  {
   "cell_type": "code",
   "execution_count": null,
   "metadata": {},
   "outputs": [],
   "source": [
    "index, max_value = history.index(max(history)), max(history)\n",
    "print(f\"Max fitness value reached at epoch {index}, Max fitness value: {max_value}\")"
   ]
  },
  {
   "cell_type": "markdown",
   "metadata": {},
   "source": [
    "The following cell plots the graph of the formula"
   ]
  },
  {
   "cell_type": "code",
   "execution_count": null,
   "metadata": {},
   "outputs": [],
   "source": [
    "population[0].draw()\n",
    "if SAVE:\n",
    "    plt.savefig(f'./images/problem{selected}/formula.png')"
   ]
  },
  {
   "cell_type": "markdown",
   "metadata": {},
   "source": [
    "The following plots are obtained by setting all the variables to 0 except for the plotted one"
   ]
  },
  {
   "cell_type": "code",
   "execution_count": null,
   "metadata": {},
   "outputs": [],
   "source": [
    "y_max = max(truth)\n",
    "y_min = min(truth)\n",
    "\n",
    "for i in range(x.shape[0]):\n",
    "    x_min = min(x[i])\n",
    "    x_max = max(x[i])\n",
    "    interval = np.linspace(x_min, x_max, 2000)\n",
    "\n",
    "    # Generate predicted values for the interval using the population model.\n",
    "    predicted = [population[0](**{f'x{k}': interval[j] if k==i else 0 for k in range(x.shape[0])}) for j in range(len(interval))]\n",
    "    \n",
    "    plt.ylim(2*y_min, 2*y_max)\n",
    "\n",
    "    plt.title(f'x{i}')\n",
    "    plt.scatter(x[i], truth, s=1, c='r')   # Scatter plot for the original points\n",
    "    plt.plot(interval, predicted, c='b', linewidth=1)   # Blue line for the predicted values on the interval\n",
    "    plt.grid(True)\n",
    "\n",
    "    plt.legend(['Ground Truth', 'Predicted'])\n",
    "    if SAVE:\n",
    "        plt.savefig(f'./images/problem{selected}/x{i}.png')\n",
    "    plt.show()\n"
   ]
  },
  {
   "cell_type": "markdown",
   "metadata": {},
   "source": [
    "If `x` is 2 dimensional, the following cell outputs a 3D plot"
   ]
  },
  {
   "cell_type": "code",
   "execution_count": null,
   "metadata": {},
   "outputs": [],
   "source": [
    "if x.shape[0] == 2:\n",
    "    #%matplotlib widget\n",
    "    from mpl_toolkits.mplot3d import Axes3D\n",
    "\n",
    "    fig = plt.figure()\n",
    "    ax = fig.add_subplot(111, projection='3d')\n",
    "\n",
    "    # Assuming x has at least 2 dimensions for 3D plotting\n",
    "    x1 = x[0]\n",
    "    x2 = x[1]\n",
    "\n",
    "    # Generate predicted values for the 3D plot using the population model.\n",
    "    predicted = [population[0](**{f'x0': x1[j], f'x1': x2[j]}) for j in range(len(x1))]\n",
    "\n",
    "    ax.scatter(x1, x2, truth, c='r', marker='o', s=1)  # Scatter plot for the original points\n",
    "    ax.plot_trisurf(x1, x2, predicted, color='b', alpha=0.5)  # Surface plot for the predicted values\n",
    "\n",
    "    ax.set_xlabel('X0')\n",
    "    ax.set_ylabel('X1')\n",
    "    ax.set_zlabel('Y')\n",
    "    plt.title('3D Plot')\n",
    "    if SAVE:\n",
    "        plt.savefig(f'./images/problem{selected}/3d.png')\n",
    "    plt.show()\n",
    "\n",
    "    #%matplotlib inline"
   ]
  }
 ],
 "metadata": {
  "kernelspec": {
   "display_name": ".venv",
   "language": "python",
   "name": "python3"
  },
  "language_info": {
   "codemirror_mode": {
    "name": "ipython",
    "version": 3
   },
   "file_extension": ".py",
   "mimetype": "text/x-python",
   "name": "python",
   "nbconvert_exporter": "python",
   "pygments_lexer": "ipython3",
   "version": "3.12.2"
  }
 },
 "nbformat": 4,
 "nbformat_minor": 2
}
